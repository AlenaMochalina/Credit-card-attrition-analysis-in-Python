{
 "cells": [
  {
   "cell_type": "markdown",
   "metadata": {},
   "source": [
    "#### **Credit card customer segmentation**"
   ]
  },
  {
   "cell_type": "markdown",
   "metadata": {},
   "source": [
    "IMPORT KNIHOVEN"
   ]
  },
  {
   "cell_type": "code",
   "execution_count": 4,
   "metadata": {},
   "outputs": [
    {
     "name": "stdout",
     "output_type": "stream",
     "text": [
      "All specified libraries have been imported successfully.\n"
     ]
    }
   ],
   "source": [
    "from import_libraries import import_libraries\n",
    "import_libraries()"
   ]
  },
  {
   "cell_type": "markdown",
   "metadata": {},
   "source": [
    "NAČTENÍ DAT  A POPIS FEATUR"
   ]
  },
  {
   "cell_type": "code",
   "execution_count": 10,
   "metadata": {},
   "outputs": [
    {
     "name": "stdout",
     "output_type": "stream",
     "text": [
      "   CLIENTNUM     Attrition_Flag  Customer_Age Gender  Dependent_count  \\\n",
      "0  768805383  Existing Customer            45      M                3   \n",
      "1  818770008  Existing Customer            49      F                5   \n",
      "2  713982108  Existing Customer            51      M                3   \n",
      "3  769911858  Existing Customer            40      F                4   \n",
      "4  709106358  Existing Customer            40      M                3   \n",
      "\n",
      "  Education_Level Marital_Status Income_Category Card_Category  \\\n",
      "0     High School        Married     $60K - $80K          Blue   \n",
      "1        Graduate         Single  Less than $40K          Blue   \n",
      "2        Graduate        Married    $80K - $120K          Blue   \n",
      "3     High School        Unknown  Less than $40K          Blue   \n",
      "4      Uneducated        Married     $60K - $80K          Blue   \n",
      "\n",
      "   Months_on_book  ...  Credit_Limit  Total_Revolving_Bal  Avg_Open_To_Buy  \\\n",
      "0              39  ...       12691.0                  777          11914.0   \n",
      "1              44  ...        8256.0                  864           7392.0   \n",
      "2              36  ...        3418.0                    0           3418.0   \n",
      "3              34  ...        3313.0                 2517            796.0   \n",
      "4              21  ...        4716.0                    0           4716.0   \n",
      "\n",
      "   Total_Amt_Chng_Q4_Q1  Total_Trans_Amt  Total_Trans_Ct  Total_Ct_Chng_Q4_Q1  \\\n",
      "0                 1.335             1144              42                1.625   \n",
      "1                 1.541             1291              33                3.714   \n",
      "2                 2.594             1887              20                2.333   \n",
      "3                 1.405             1171              20                2.333   \n",
      "4                 2.175              816              28                2.500   \n",
      "\n",
      "   Avg_Utilization_Ratio  \\\n",
      "0                  0.061   \n",
      "1                  0.105   \n",
      "2                  0.000   \n",
      "3                  0.760   \n",
      "4                  0.000   \n",
      "\n",
      "   Naive_Bayes_Classifier_Attrition_Flag_Card_Category_Contacts_Count_12_mon_Dependent_count_Education_Level_Months_Inactive_12_mon_1  \\\n",
      "0                                           0.000093                                                                                    \n",
      "1                                           0.000057                                                                                    \n",
      "2                                           0.000021                                                                                    \n",
      "3                                           0.000134                                                                                    \n",
      "4                                           0.000022                                                                                    \n",
      "\n",
      "   Naive_Bayes_Classifier_Attrition_Flag_Card_Category_Contacts_Count_12_mon_Dependent_count_Education_Level_Months_Inactive_12_mon_2  \n",
      "0                                            0.99991                                                                                   \n",
      "1                                            0.99994                                                                                   \n",
      "2                                            0.99998                                                                                   \n",
      "3                                            0.99987                                                                                   \n",
      "4                                            0.99998                                                                                   \n",
      "\n",
      "[5 rows x 23 columns]\n"
     ]
    }
   ],
   "source": [
    "from load_data import load_and_preview_data\n",
    "data = load_and_preview_data('BankChurners.csv')"
   ]
  },
  {
   "cell_type": "markdown",
   "metadata": {},
   "source": [
    "Tento dataset poskytuje informace o zákaznících pro předpověď odchodu zákazníků u portfolia spotřebitelských kreditních karet.\n",
    "\n",
    "- CLIENTNUM: Unikátní identifikátor pro každého zákazníka. (Celé číslo = Integer)\n",
    "- Attrition_Flag: Příznak označující, zda zákazník odešel. (Boolean)\n",
    "- Customer_Age: Věk zákazníka. (Celé číslo = Integer)\n",
    "- Gender: Pohlaví zákazníka. (Text = String)\n",
    "- Dependent_count: Počet závislých osob, které má zákazník. (Celé číslo = Integer)\n",
    "- Education_Level: Úroveň vzdělání zákazníka. (String)\n",
    "- Marital_Status: Rodinný stav zákazníka. (String)\n",
    "- Income_Category: Příjmová kategorie zákazníka. (String)\n",
    "- Card_Category: Typ karty, kterou zákazník vlastní. (String)\n",
    "- Months_on_book: Jak dlouho je zákazník vedený v evidenci. (Integer)\n",
    "- Total_Relationship_Count: Celkový počet vztahů, které zákazník má s poskytovatelem kreditní karty. (Integer)\n",
    "- Months_Inactive_12_mon: Počet měsíců, kdy byl zákazník neaktivní za posledních dvanáct měsíců. (Integer)\n",
    "- Contacts_Count_12_mon: Počet kontaktů, které měl zákazník za posledních dvanáct měsíců. (Integer)\n",
    "- Credit_Limit: Úvěrový limit zákazníka. (Celé číslo)\n",
    "- Total_Revolving_Bal: Celkový revolvingový zůstatek zákazníka. (Celé číslo)\n",
    "- Avg_Open_To_Buy: Průměrný poměr otevřených úvěrových možností k nákupům zákazníka. (Celé číslo)\n",
    "- Total_Amt_Chng_Q4_Q1: Celková změna částky od čtvrtého čtvrtletí do prvního čtvrtletí. (Celé číslo)\n",
    "- Total_Trans_Amt: Celková transakční částka. (Celé číslo)\n",
    "- Total_Trans_Ct: Celkový počet transakcí. (Celé číslo)\n",
    "- Total_Ct_Chng_Q4_Q1: Celková změna počtu transakcí od čtvrtého čtvrtletí do prvního čtvrtletí. (Celé číslo)\n",
    "- Avg_Utilization_Ratio: Průměrný poměr využití úvěrového limitu zákazníka. (Celé číslo)\n",
    "- Naive_Bayes_Classifier_Attrition_Flag_Card_Category_Contacts_Count_12_mon_Dependent_count_Education_Level_Months_Inactive_12_mon_1: \n",
    "    Naivní Bayesův klasifikátor pro předpověď odchodu zákazníka na základě charakteristik."
   ]
  },
  {
   "cell_type": "markdown",
   "metadata": {},
   "source": [
    "PRŮZKUM DAT"
   ]
  },
  {
   "cell_type": "markdown",
   "metadata": {},
   "source": [
    "EXPLORATIVNÍ DATOVÁ ANALÝZA"
   ]
  },
  {
   "cell_type": "markdown",
   "metadata": {},
   "source": [
    "PŘÍPRAVA DAT PRO SHLUKOVÁNÍ"
   ]
  },
  {
   "cell_type": "markdown",
   "metadata": {},
   "source": [
    "PŘÍPRAVA DAT PRO KLASIFIKACI"
   ]
  },
  {
   "cell_type": "markdown",
   "metadata": {},
   "source": [
    "SHLUKOVÁNÍ"
   ]
  },
  {
   "cell_type": "markdown",
   "metadata": {},
   "source": [
    "KLASIFIKACE"
   ]
  },
  {
   "cell_type": "markdown",
   "metadata": {},
   "source": [
    "VYHODNCENÍ"
   ]
  }
 ],
 "metadata": {
  "kernelspec": {
   "display_name": "Python 3",
   "language": "python",
   "name": "python3"
  },
  "language_info": {
   "codemirror_mode": {
    "name": "ipython",
    "version": 3
   },
   "file_extension": ".py",
   "mimetype": "text/x-python",
   "name": "python",
   "nbconvert_exporter": "python",
   "pygments_lexer": "ipython3",
   "version": "3.12.2"
  }
 },
 "nbformat": 4,
 "nbformat_minor": 2
}

{
 "cells": [
  {
   "cell_type": "markdown",
   "metadata": {},
   "source": [
    "#### **Credit card customer segmentation**"
   ]
  },
  {
   "cell_type": "markdown",
   "metadata": {},
   "source": [
    "IMPORT KNIHOVEN"
   ]
  },
  {
   "cell_type": "markdown",
   "metadata": {},
   "source": [
    "NAČTENÍ DAT  A POPIS FEATUR"
   ]
  },
  {
   "cell_type": "markdown",
   "metadata": {},
   "source": [
    "PRŮZKUM DAT"
   ]
  },
  {
   "cell_type": "markdown",
   "metadata": {},
   "source": [
    "EXPLORATIVNÍ DATOVÁ ANALÝZA"
   ]
  },
  {
   "cell_type": "markdown",
   "metadata": {},
   "source": [
    "PŘÍPRAVA DAT PRO SHLUKOVÁNÍ"
   ]
  },
  {
   "cell_type": "markdown",
   "metadata": {},
   "source": [
    "PŘÍPRAVA DAT PRO KLASIFIKACI"
   ]
  },
  {
   "cell_type": "markdown",
   "metadata": {},
   "source": [
    "SHLUKOVÁNÍ"
   ]
  },
  {
   "cell_type": "markdown",
   "metadata": {},
   "source": [
    "KLASIFIKACE"
   ]
  },
  {
   "cell_type": "markdown",
   "metadata": {},
   "source": [
    "VYHODNCENÍ"
   ]
  }
 ],
 "metadata": {
  "kernelspec": {
   "display_name": "Python 3",
   "language": "python",
   "name": "python3"
  },
  "language_info": {
   "codemirror_mode": {
    "name": "ipython",
    "version": 3
   },
   "file_extension": ".py",
   "mimetype": "text/x-python",
   "name": "python",
   "nbconvert_exporter": "python",
   "pygments_lexer": "ipython3",
   "version": "3.8.0"
  }
 },
 "nbformat": 4,
 "nbformat_minor": 2
}
